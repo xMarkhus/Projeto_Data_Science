{
 "cells": [
  {
   "cell_type": "markdown",
   "metadata": {},
   "source": [
    "## Análise mais aprofundada dos dados(encontrando as causas dos cancelamentos)"
   ]
  },
  {
   "cell_type": "code",
   "execution_count": null,
   "metadata": {},
   "outputs": [],
   "source": [
    "from Pt3_analise_inicial import df_filtrado\n",
    "import plotly.express as px\n",
    "\n",
    "# Plotando gráficos para análises mais precisas\n",
    "for coluna in df_filtrado.columns:\n",
    "    gf = px.histogram(df_filtrado, x = coluna, color = 'cancelou')\n",
    "    gf.show()"
   ]
  },
  {
   "cell_type": "markdown",
   "metadata": {},
   "source": [
    "## Observações:\n",
    "### 100% dos clientes com idade superior a 50 anos cancelam a assinatura;\n",
    "### a partir da quarta ligação, a assinatura é cancelada\n",
    "### clientes com planos atrasados num período superior a 20 dias acabam cancelando a assinatura"
   ]
  },
  {
   "cell_type": "code",
   "execution_count": null,
   "metadata": {},
   "outputs": [],
   "source": [
    "# Filtando a base de dados de acordo com as observações mencionadas\n",
    "df_final = df_filtrado[(df_filtrado['idade'] <= 50) & (df_filtrado['ligacoes_callcenter'] < 5) & (df_filtrado['dias_atraso'] < 21)]\n",
    "display(df_final['cancelou'].value_counts(normalize = True).map('{:.1%}'.format))\n"
   ]
  },
  {
   "cell_type": "markdown",
   "metadata": {},
   "source": [
    "### Feitas as alterações, a taxa de cancelamento cai de 46%.1 para 12.1%"
   ]
  }
 ],
 "metadata": {
  "kernelspec": {
   "display_name": "Python 3",
   "language": "python",
   "name": "python3"
  },
  "language_info": {
   "name": "python",
   "version": "3.10.12"
  }
 },
 "nbformat": 4,
 "nbformat_minor": 2
}
