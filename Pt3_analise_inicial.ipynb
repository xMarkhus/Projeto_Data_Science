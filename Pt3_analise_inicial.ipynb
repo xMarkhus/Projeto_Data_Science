{
 "cells": [
  {
   "cell_type": "markdown",
   "metadata": {},
   "source": [
    "## Análise incial dos dados(entender como estão os cancelamentos)"
   ]
  },
  {
   "cell_type": "code",
   "execution_count": null,
   "metadata": {},
   "outputs": [],
   "source": [
    "from Pt2_tratar_erros import df_tratado\n",
    "\n",
    "# verificando a taxa de cancelamento\n",
    "display(df_tratado['cancelou'].value_counts(normalize=True).map('{:.1%}'.format))\n",
    "\n",
    "# taxa de cancelamento se encontra em 56.7%\n"
   ]
  },
  {
   "cell_type": "code",
   "execution_count": null,
   "metadata": {},
   "outputs": [],
   "source": [
    "# verificando a taxa de cancelamento por tipo de assintura\n",
    "display(df_tratado[['duracao_contrato', 'cancelou']].groupby('duracao_contrato').mean())\n",
    "\n",
    "# primeiro problema detectado, 100% dos contratos mensais são cancelados"
   ]
  },
  {
   "cell_type": "code",
   "execution_count": null,
   "metadata": {},
   "outputs": [],
   "source": [
    "# Analisando as estatísticas de cancelamento sem o plano mensal\n",
    "df_filtrado = df_tratado[df_tratado['duracao_contrato'] != 'Monthly']\n",
    "\n",
    "display(df_filtrado['cancelou'].value_counts(normalize=True).map('{:.1%}'.format))\n",
    "\n",
    "# A taxa de cancelamento cai de 56.7% para 46.1%\n"
   ]
  }
 ],
 "metadata": {
  "kernelspec": {
   "display_name": "Python 3",
   "language": "python",
   "name": "python3"
  },
  "language_info": {
   "name": "python",
   "version": "3.10.12"
  }
 },
 "nbformat": 4,
 "nbformat_minor": 2
}
