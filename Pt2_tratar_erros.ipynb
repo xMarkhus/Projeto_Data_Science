{
 "cells": [
  {
   "cell_type": "markdown",
   "metadata": {},
   "source": [
    "## Tratando erros"
   ]
  },
  {
   "cell_type": "code",
   "execution_count": null,
   "metadata": {},
   "outputs": [],
   "source": [
    "from Pt1_base_de_dados import df_atualizado\n",
    "\n",
    "# verificando se há valores vazios\n",
    "display(df_atualizado.info())\n",
    "\n",
    "# excluindo linhas com valores vazios\n",
    "df_tratado = df_atualizado.dropna()\n",
    "display(df_tratado.info())\n"
   ]
  }
 ],
 "metadata": {
  "kernelspec": {
   "display_name": "Python 3",
   "language": "python",
   "name": "python3"
  },
  "language_info": {
   "name": "python",
   "version": "3.10.12"
  }
 },
 "nbformat": 4,
 "nbformat_minor": 2
}
