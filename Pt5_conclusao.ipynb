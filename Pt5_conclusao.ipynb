{
 "cells": [
  {
   "cell_type": "markdown",
   "metadata": {},
   "source": [
    "# Conclusão -  Pontos a serem trabalhados\n",
    "## 1. Plano mensal \n",
    "### - preços mais acessíveis, dias experimentais para cada plano.\n",
    "## 2. Clientes com idade superior a 50 anos;\n",
    "### - Adequação de conteúdo para clientes nessa faixa de idade.\n",
    "## 3. Clientes com atrazo maior que 20 dias;\n",
    "### - Controle automatizado de inadiplência, mensagens automáticas enviadas por e-mail e/ou número de celular para clientes com atraso igual ou maior que três dias.\n",
    "## 4. Clientes que não tem seu problema resolvido em até 4 ligações.\n",
    "### - Investimento na área de Telemarketing, capacitação contínua dos funcionários."
   ]
  }
 ],
 "metadata": {
  "language_info": {
   "name": "python"
  }
 },
 "nbformat": 4,
 "nbformat_minor": 2
}
