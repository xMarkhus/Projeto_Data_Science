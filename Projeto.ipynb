{
 "cells": [
  {
   "cell_type": "markdown",
   "metadata": {},
   "source": [
    "# Python Insights - Analisando Dados com Python\n",
    "\n",
    "### Case - Cancelamento de Clientes\n",
    "\n",
    "Você foi contratado por uma empresa com mais de 800 mil clientes para um projeto de Dados. Recentemente a empresa percebeu que da sua base total de clientes, a maioria são clientes inativos, ou seja, que já cancelaram o serviço.\n",
    "\n",
    "Precisando melhorar seus resultados, ela quer conseguir entender os principais motivos desses cancelamentos e quais as ações mais eficientes para reduzir esse número.\n",
    "\n",
    "Base de dados e arquivos se encontram na pasta do projeto"
   ]
  },
  {
   "cell_type": "markdown",
   "metadata": {},
   "source": [
    "## Importando e visualizando a base de dados"
   ]
  },
  {
   "cell_type": "code",
   "execution_count": null,
   "metadata": {},
   "outputs": [],
   "source": [
    "import pandas as pd\n",
    "\n",
    "df = pd.read_csv('cancelamentos.csv')\n",
    "display(df)\n"
   ]
  },
  {
   "cell_type": "markdown",
   "metadata": {},
   "source": [
    "## Excluindo colunas desnecessárias para a análise"
   ]
  },
  {
   "cell_type": "code",
   "execution_count": null,
   "metadata": {},
   "outputs": [],
   "source": [
    "df_atualizado = df.drop('CustomerID', axis=1)\n",
    "display(df_atualizado)\n"
   ]
  },
  {
   "cell_type": "markdown",
   "metadata": {},
   "source": [
    "## Tratando erros"
   ]
  },
  {
   "cell_type": "code",
   "execution_count": null,
   "metadata": {},
   "outputs": [],
   "source": [
    "# verificando se há valores vazios\n",
    "display(df_atualizado.info())\n",
    "\n",
    "# excluindo linhas com valores vazios\n",
    "df_tratado = df_atualizado.dropna()\n",
    "display(df_tratado.info())\n"
   ]
  },
  {
   "cell_type": "markdown",
   "metadata": {},
   "source": [
    "## Análise incial dos dados(entender como estão os cancelamentos)"
   ]
  },
  {
   "cell_type": "code",
   "execution_count": null,
   "metadata": {},
   "outputs": [],
   "source": [
    "# verificando a taxa de cancelamento\n",
    "display(df_tratado['cancelou'].value_counts(normalize=True).map('{:.1%}'.format))\n",
    "\n",
    "# taxa de cancelamento se encontra em 56.7%\n"
   ]
  },
  {
   "cell_type": "code",
   "execution_count": null,
   "metadata": {},
   "outputs": [],
   "source": [
    "# verificando a taxa de cancelamento por tipo de assintura\n",
    "display(df_tratado[['duracao_contrato', 'cancelou']].groupby('duracao_contrato').mean())\n",
    "\n",
    "# primeiro problema detectado, 100% dos contratos mensais são cancelados"
   ]
  },
  {
   "cell_type": "code",
   "execution_count": null,
   "metadata": {},
   "outputs": [],
   "source": [
    "# Analisando as estatísticas de cancelamento sem o plano mensal\n",
    "df_filtrado = df_tratado[df_tratado['duracao_contrato'] != 'Monthly']\n",
    "\n",
    "display(df_filtrado['cancelou'].value_counts(normalize=True).map('{:.1%}'.format))\n",
    "\n",
    "# A taxa de cancelamento cai de 56.7% para 46.1%\n"
   ]
  },
  {
   "cell_type": "markdown",
   "metadata": {},
   "source": [
    "## Análise mais aprofundada dos dados(encontrando as causas dos cancelamentos)"
   ]
  },
  {
   "cell_type": "code",
   "execution_count": null,
   "metadata": {},
   "outputs": [],
   "source": [
    "import plotly.express as px\n",
    "\n",
    "# Plotando gráficos para análises mais precisas\n",
    "for coluna in df_filtrado.columns:\n",
    "    gf = px.histogram(df_filtrado, x = coluna, color = 'cancelou')\n",
    "    gf.show()"
   ]
  },
  {
   "cell_type": "markdown",
   "metadata": {},
   "source": [
    "## Observações:\n",
    "### 100% dos clientes com idade superior a 50 anos cancelam a assinatura;\n",
    "### a partir da quarta ligação, a assinatura é cancelada\n",
    "### clientes com planos atrasados num período superior a 20 dias acabam cancelando a assinatura"
   ]
  },
  {
   "cell_type": "code",
   "execution_count": null,
   "metadata": {},
   "outputs": [],
   "source": [
    "# Filtando a base de dados de acordo com as observações mencionadas\n",
    "df_final = df_filtrado[(df_filtrado['idade'] <= 50) & (df_filtrado['ligacoes_callcenter'] < 5) & (df_filtrado['dias_atraso'] < 21)]\n",
    "display(df_final['cancelou'].value_counts(normalize = True).map('{:.1%}'.format))\n"
   ]
  },
  {
   "cell_type": "markdown",
   "metadata": {},
   "source": [
    "### Feitas as alterações, a taxa de cancelamento cai de 46%.1 para 12.1%"
   ]
  },
  {
   "cell_type": "markdown",
   "metadata": {},
   "source": [
    "# Conclusão -  Pontos a serem trabalhados\n",
    "## 1. Plano mensal \n",
    "### - preços mais acessíveis, dias experimentais para cada plano.\n",
    "## 2. Clientes com idade superior a 50 anos;\n",
    "### - Adequação de conteúdo para clientes nessa faixa de idade.\n",
    "## 3. Clientes com atrazo maior que 20 dias;\n",
    "### - Controle automatizado de inadiplência, mensagens automáticas enviadas por e-mail e/ou número de celular para clientes com atraso igual ou maior que três dias.\n",
    "## 4. Clientes que não tem seu problema resolvido em até 4 ligações.\n",
    "### - Investimento na área de Telemarketing, capacitação contínua dos funcionários."
   ]
  }
 ],
 "metadata": {
  "kernelspec": {
   "display_name": "Python 3",
   "language": "python",
   "name": "python3"
  },
  "language_info": {
   "codemirror_mode": {
    "name": "ipython",
    "version": 3
   },
   "file_extension": ".py",
   "mimetype": "text/x-python",
   "name": "python",
   "nbconvert_exporter": "python",
   "pygments_lexer": "ipython3",
   "version": "3.10.12"
  }
 },
 "nbformat": 4,
 "nbformat_minor": 2
}
